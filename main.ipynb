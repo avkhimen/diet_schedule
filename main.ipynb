{
 "cells": [
  {
   "cell_type": "code",
   "execution_count": 110,
   "id": "60ebb951",
   "metadata": {},
   "outputs": [],
   "source": [
    "from gurobipy import Model, GRB\n",
    "import numpy as np\n",
    "import pandas as pd\n",
    "from calories_of_ingredients import CALORIES_OF_INGREDIENTS\n",
    "from food_costs import FOOD_COSTS\n",
    "from recipes import RECIPES"
   ]
  },
  {
   "cell_type": "code",
   "execution_count": 122,
   "id": "028a3f36",
   "metadata": {},
   "outputs": [],
   "source": [
    "recipes = {}\n",
    "calories_of_ingredients = {}\n",
    "food_costs = {}\n",
    "recipes = RECIPES\n",
    "calories_of_ingredients = CALORIES_OF_INGREDIENTS\n",
    "food_costs = FOOD_COSTS\n",
    "max_num_times_recipe_is_eaten = {}\n",
    "min_num_times_recipe_is_eaten = {}"
   ]
  },
  {
   "cell_type": "code",
   "execution_count": 123,
   "id": "6fb2d127",
   "metadata": {},
   "outputs": [],
   "source": [
    "#recipes['dish_name'] = {'ingredient_1_name' : grams, 'ingredient_2_name' : grams}\n",
    "# recipes['potatoes_and_meat'] = {'potatoes' : 500, 'meat' : 300}\n",
    "# recipes['eggs_and_carrots'] = {'eggs' : 120, 'carrots' : 200}"
   ]
  },
  {
   "cell_type": "code",
   "execution_count": 124,
   "id": "46af51d5",
   "metadata": {},
   "outputs": [],
   "source": [
    "max_num_times_recipe_is_eaten['potatoes_and_meat'] = 30\n",
    "max_num_times_recipe_is_eaten['eggs_and_carrots'] = 30\n",
    "max_num_times_recipe_is_eaten['bacon_and_eggs'] = 30\n",
    "min_num_times_recipe_is_eaten['potatoes_and_meat'] = 4\n",
    "min_num_times_recipe_is_eaten['eggs_and_carrots'] = 4\n",
    "min_num_times_recipe_is_eaten['bacon_and_eggs'] = 4"
   ]
  },
  {
   "cell_type": "code",
   "execution_count": 125,
   "id": "f81b734d",
   "metadata": {},
   "outputs": [],
   "source": [
    "#ingredients['ingredient_name'] = amount in calories per gram\n",
    "# calories_of_ingredients['potatoes'] = 0.6\n",
    "# calories_of_ingredients['carrots'] = 0.7\n",
    "# calories_of_ingredients['eggs'] = 0.8\n",
    "# calories_of_ingredients['meat'] = 1.5"
   ]
  },
  {
   "cell_type": "code",
   "execution_count": 126,
   "id": "3fcf4e97",
   "metadata": {},
   "outputs": [],
   "source": [
    "#food_costs['ingredient_name'] = dollars per gram\n",
    "# food_costs['potatoes'] = 2\n",
    "# food_costs['carrots'] = 1\n",
    "# food_costs['eggs'] = 5\n",
    "# food_costs['meat'] = 7"
   ]
  },
  {
   "cell_type": "code",
   "execution_count": 127,
   "id": "cfc57da0",
   "metadata": {},
   "outputs": [],
   "source": [
    "#Define params\n",
    "num_meals_per_day = 3\n",
    "num_days = 14\n",
    "total_calories_per_day = 1800\n",
    "calorie_tolerance = 50\n",
    "time_intervals = [*range(num_meals_per_day*num_days)]"
   ]
  },
  {
   "cell_type": "code",
   "execution_count": 128,
   "id": "90541bb9",
   "metadata": {},
   "outputs": [],
   "source": [
    "#Initialize model\n",
    "model = Model()"
   ]
  },
  {
   "cell_type": "code",
   "execution_count": 129,
   "id": "47fe199d",
   "metadata": {},
   "outputs": [],
   "source": [
    "#Define variables\n",
    "amount_of_recipe = {}\n",
    "for time_interval in time_intervals:\n",
    "    amount_of_recipe[time_interval] = {}\n",
    "    for recipe in recipes.keys():\n",
    "        amount_of_recipe[time_interval][recipe] = 0\n",
    "        \n",
    "recipe_present = {}\n",
    "for time_interval in time_intervals:\n",
    "    recipe_present[time_interval] = {}\n",
    "    for recipe in recipes.keys():\n",
    "        recipe_present[time_interval][recipe] = 0"
   ]
  },
  {
   "cell_type": "code",
   "execution_count": 130,
   "id": "907ff968",
   "metadata": {},
   "outputs": [],
   "source": [
    "#Define variables as Gurobi variables\n",
    "for time_interval in time_intervals:\n",
    "    for recipe in recipes.keys():\n",
    "        amount_of_recipe[time_interval][recipe] = model.addVar(0.5,\n",
    "                                                               10, \n",
    "                                                               name = f'amount_of_recipe[{time_interval}][{recipe}]',\n",
    "                                                               vtype = 'S')\n",
    "\n",
    "for time_interval in time_intervals:\n",
    "    for recipe in recipes.keys():\n",
    "        recipe_present[time_interval][recipe] = model.addVar(name = f'recipe_present[{time_interval}][{recipe}]',\n",
    "                                                             vtype = 'B')"
   ]
  },
  {
   "cell_type": "code",
   "execution_count": 131,
   "id": "175f5c43",
   "metadata": {},
   "outputs": [],
   "source": [
    "#Define constraints\n",
    "for time_interval in time_intervals:\n",
    "    s = 0\n",
    "    for recipe in recipes.keys():\n",
    "        s += recipe_present[time_interval][recipe]\n",
    "    model.addConstr(s == 1)\n",
    "\n",
    "for time_interval in time_intervals:\n",
    "    for recipe in recipes.keys():\n",
    "        model.addConstr(recipe_present[time_interval][recipe] \n",
    "                        + amount_of_recipe[time_interval][recipe] <= 50*recipe_present[time_interval][recipe])\n",
    "        model.addConstr(recipe_present[time_interval][recipe] \n",
    "                        + amount_of_recipe[time_interval][recipe] <= 50*amount_of_recipe[time_interval][recipe])\n",
    "\n",
    "s = 0\n",
    "for time_interval in time_intervals:\n",
    "    for recipe in recipes.keys():\n",
    "        for ingredient in recipes[recipe]:\n",
    "            s += recipes[recipe][ingredient]*calories_of_ingredients[ingredient]*amount_of_recipe[time_interval][recipe]\n",
    "    if (time_interval + 1) % num_meals_per_day == 0:\n",
    "        model.addConstr(s <= total_calories_per_day + calorie_tolerance)\n",
    "        model.addConstr(s >= total_calories_per_day - calorie_tolerance)\n",
    "        s = 0\n",
    "        \n",
    "for recipe in recipes.keys():\n",
    "    s = 0\n",
    "    for time_interval in time_intervals:\n",
    "        s += recipe_present[time_interval][recipe]\n",
    "    model.addConstr(s <= max_num_times_recipe_is_eaten[recipe])\n",
    "    model.addConstr(s >= min_num_times_recipe_is_eaten[recipe])"
   ]
  },
  {
   "cell_type": "code",
   "execution_count": null,
   "id": "daad9b15",
   "metadata": {},
   "outputs": [],
   "source": [
    "#Set constraints for certain recipes\n"
   ]
  },
  {
   "cell_type": "code",
   "execution_count": 132,
   "id": "6ea47ca2",
   "metadata": {},
   "outputs": [
    {
     "name": "stdout",
     "output_type": "stream",
     "text": [
      "Gurobi Optimizer version 9.1.2 build v9.1.2rc0 (win64)\n",
      "Thread count: 2 physical cores, 4 logical processors, using up to 4 threads\n",
      "Optimize a model with 242 rows, 168 columns and 756 nonzeros\n",
      "Model fingerprint: 0xe8c61e13\n",
      "Variable types: 0 continuous, 84 integer (84 binary)\n",
      "Semi-Variable types: 84 continuous, 0 integer\n",
      "Coefficient statistics:\n",
      "  Matrix range     [1e+00, 8e+02]\n",
      "  Objective range  [8e+02, 3e+03]\n",
      "  Bounds range     [5e-01, 1e+01]\n",
      "  RHS range        [1e+00, 2e+03]\n",
      "Found heuristic solution: objective 92267.308475\n",
      "Presolve removed 44 rows and 42 columns\n",
      "Presolve time: 0.00s\n",
      "Presolved: 366 rows, 210 columns, 924 nonzeros\n",
      "Variable types: 84 continuous, 126 integer (126 binary)\n",
      "\n",
      "Root relaxation: objective 8.318741e+04, 183 iterations, 0.00 seconds\n",
      "\n",
      "    Nodes    |    Current Node    |     Objective Bounds      |     Work\n",
      " Expl Unexpl |  Obj  Depth IntInf | Incumbent    BestBd   Gap | It/Node Time\n",
      "\n",
      "     0     0 83187.4092    0   12 92267.3085 83187.4092  9.84%     -    0s\n",
      "H    0     0                    86861.299435 83187.4092  4.23%     -    0s\n",
      "H    0     0                    86396.610169 83187.4092  3.71%     -    0s\n",
      "     0     0 83187.4092    0   34 86396.6102 83187.4092  3.71%     -    0s\n",
      "     0     0 84257.1429    0   14 86396.6102 84257.1429  2.48%     -    0s\n",
      "     0     0     cutoff    0      86396.6102 86396.6102  0.00%     -    0s\n",
      "\n",
      "Explored 1 nodes (603 simplex iterations) in 0.07 seconds\n",
      "Thread count was 4 (of 4 available processors)\n",
      "\n",
      "Solution count 4: 86396.6 86861.3 88441.2 92267.3 \n",
      "\n",
      "Optimal solution found (tolerance 1.00e-04)\n",
      "Best objective 8.639661016949e+04, best bound 8.639661016949e+04, gap 0.0000%\n"
     ]
    }
   ],
   "source": [
    "#Define objective function and optimize\n",
    "def get_food_cost(amount_of_recipe):\n",
    "    total_cost = 0\n",
    "    for time_interval in time_intervals:\n",
    "        for recipe in recipes.keys():\n",
    "            for ingredient in recipes[recipe]:\n",
    "                total_cost += recipes[recipe][ingredient]*amount_of_recipe[time_interval][recipe]*food_costs[ingredient]\n",
    "                \n",
    "    return total_cost\n",
    "\n",
    "model.setObjective(get_food_cost(amount_of_recipe), GRB.MINIMIZE)\n",
    "model.optimize()"
   ]
  },
  {
   "cell_type": "code",
   "execution_count": 139,
   "id": "af331e2d",
   "metadata": {},
   "outputs": [
    {
     "name": "stdout",
     "output_type": "stream",
     "text": [
      "time interval: 0 recipe: eggs_and_carrots amount: 4.24\n",
      "time interval: 1 recipe: potatoes_and_meat amount: 0.5\n",
      "time interval: 2 recipe: potatoes_and_meat amount: 0.5\n",
      "-------------------------------------------------------\n",
      "time interval: 3 recipe: eggs_and_carrots amount: 6.42\n",
      "time interval: 4 recipe: eggs_and_carrots amount: 0.5\n",
      "time interval: 5 recipe: eggs_and_carrots amount: 0.5\n",
      "-------------------------------------------------------\n",
      "time interval: 6 recipe: eggs_and_carrots amount: 4.24\n",
      "time interval: 7 recipe: potatoes_and_meat amount: 0.5\n",
      "time interval: 8 recipe: potatoes_and_meat amount: 0.5\n",
      "-------------------------------------------------------\n",
      "time interval: 9 recipe: eggs_and_carrots amount: 5.33\n",
      "time interval: 10 recipe: potatoes_and_meat amount: 0.5\n",
      "time interval: 11 recipe: eggs_and_carrots amount: 0.5\n",
      "-------------------------------------------------------\n",
      "time interval: 12 recipe: eggs_and_carrots amount: 5.33\n",
      "time interval: 13 recipe: eggs_and_carrots amount: 0.5\n",
      "time interval: 14 recipe: potatoes_and_meat amount: 0.5\n",
      "-------------------------------------------------------\n",
      "time interval: 15 recipe: eggs_and_carrots amount: 6.42\n",
      "time interval: 16 recipe: eggs_and_carrots amount: 0.5\n",
      "time interval: 17 recipe: eggs_and_carrots amount: 0.5\n",
      "-------------------------------------------------------\n",
      "time interval: 18 recipe: eggs_and_carrots amount: 5.33\n",
      "time interval: 19 recipe: eggs_and_carrots amount: 0.5\n",
      "time interval: 20 recipe: potatoes_and_meat amount: 0.5\n",
      "-------------------------------------------------------\n",
      "time interval: 21 recipe: eggs_and_carrots amount: 6.42\n",
      "time interval: 22 recipe: eggs_and_carrots amount: 0.5\n",
      "time interval: 23 recipe: eggs_and_carrots amount: 0.5\n",
      "-------------------------------------------------------\n",
      "time interval: 24 recipe: eggs_and_carrots amount: 5.33\n",
      "time interval: 25 recipe: potatoes_and_meat amount: 0.5\n",
      "time interval: 26 recipe: eggs_and_carrots amount: 0.5\n",
      "-------------------------------------------------------\n",
      "time interval: 27 recipe: eggs_and_carrots amount: 6.42\n",
      "time interval: 28 recipe: eggs_and_carrots amount: 0.5\n",
      "time interval: 29 recipe: eggs_and_carrots amount: 0.5\n",
      "-------------------------------------------------------\n",
      "time interval: 30 recipe: eggs_and_carrots amount: 5.33\n",
      "time interval: 31 recipe: potatoes_and_meat amount: 0.5\n",
      "time interval: 32 recipe: eggs_and_carrots amount: 0.5\n",
      "-------------------------------------------------------\n",
      "time interval: 33 recipe: eggs_and_carrots amount: 5.33\n",
      "time interval: 34 recipe: eggs_and_carrots amount: 0.5\n",
      "time interval: 35 recipe: potatoes_and_meat amount: 0.5\n",
      "-------------------------------------------------------\n",
      "time interval: 36 recipe: eggs_and_carrots amount: 5.33\n",
      "time interval: 37 recipe: eggs_and_carrots amount: 0.5\n",
      "time interval: 38 recipe: potatoes_and_meat amount: 0.5\n",
      "-------------------------------------------------------\n",
      "time interval: 39 recipe: eggs_and_carrots amount: 5.33\n",
      "time interval: 40 recipe: eggs_and_carrots amount: 0.5\n",
      "time interval: 41 recipe: potatoes_and_meat amount: 0.5\n",
      "-------------------------------------------------------\n"
     ]
    }
   ],
   "source": [
    "for time_interval in time_intervals:\n",
    "    for recipe in recipes.keys():\n",
    "        if round(amount_of_recipe[time_interval][recipe].x, 2) != 0:\n",
    "            print(f'time interval:', time_interval, \n",
    "                  'recipe:', recipe, \n",
    "                  'amount:', round(amount_of_recipe[time_interval][recipe].x, 2))\n",
    "    if (time_interval + 1) % 3 == 0:\n",
    "        print('-------------------------------------------------------')"
   ]
  },
  {
   "cell_type": "code",
   "execution_count": 135,
   "id": "23fd2120",
   "metadata": {},
   "outputs": [],
   "source": [
    "# for time_interval in time_intervals:\n",
    "#     for recipe in recipes.keys():\n",
    "#         print(f'time interval:', time_interval, 'recipe:', recipe, 'amount:', recipe_present[time_interval][recipe].x)"
   ]
  }
 ],
 "metadata": {
  "kernelspec": {
   "display_name": "Python 3",
   "language": "python",
   "name": "python3"
  },
  "language_info": {
   "codemirror_mode": {
    "name": "ipython",
    "version": 3
   },
   "file_extension": ".py",
   "mimetype": "text/x-python",
   "name": "python",
   "nbconvert_exporter": "python",
   "pygments_lexer": "ipython3",
   "version": "3.8.8"
  }
 },
 "nbformat": 4,
 "nbformat_minor": 5
}
